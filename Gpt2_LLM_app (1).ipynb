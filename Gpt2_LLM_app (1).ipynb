{
  "nbformat": 4,
  "nbformat_minor": 0,
  "metadata": {
    "colab": {
      "provenance": []
    },
    "kernelspec": {
      "name": "python3",
      "display_name": "Python 3"
    },
    "language_info": {
      "name": "python"
    }
  },
  "cells": [
    {
      "cell_type": "code",
      "source": [
        "\n",
        "# Import the required library\n",
        "from transformers import pipeline\n",
        "\n",
        "# Define the task and model\n",
        "task = \"text-generation\"\n",
        "model_name = \"gpt2\"\n",
        "\n",
        "# Define the input text, maximum output length, and the number of return sequences\n",
        "input_text = \"he draw to the town \"\n",
        "max_output_length = 50\n",
        "num_of_return_sequences = 1\n",
        "\n",
        "# Initialize the text generation pipeline\n",
        "text_generator = pipeline(\n",
        "    task,\n",
        "    model=model_name\n",
        ")\n",
        "\n",
        "# Generate text sequences\n",
        "generated_texts = text_generator(\n",
        "    input_text,\n",
        "    max_length=max_output_length,\n",
        "    num_return_sequences=num_of_return_sequences\n",
        ")\n",
        "\n",
        "# Print the generated text sequences\n",
        "for i, text in enumerate(generated_texts):\n",
        "    print(f\"Generated Text {i+1}: {text['generated_text']}\")"
      ],
      "metadata": {
        "colab": {
          "base_uri": "https://localhost:8080/"
        },
        "id": "0rNsuHRYznUQ",
        "outputId": "dae8e691-a1f0-4d3a-c521-086522ef9e9d"
      },
      "execution_count": 6,
      "outputs": [
        {
          "output_type": "stream",
          "name": "stderr",
          "text": [
            "Truncation was not explicitly activated but `max_length` is provided a specific value, please use `truncation=True` to explicitly truncate examples to max length. Defaulting to 'longest_first' truncation strategy. If you encode pairs of sequences (GLUE-style) with the tokenizer you can select this strategy more precisely by providing a specific strategy to `truncation`.\n",
            "Setting `pad_token_id` to `eos_token_id`:50256 for open-end generation.\n"
          ]
        },
        {
          "output_type": "stream",
          "name": "stdout",
          "text": [
            "Generated Text 1: he draw to the town Ṣuṣṭṭhi, the wind was blowing gently in this direction towards the east, and so the wind was as much as the wind of a mountain. Ṣuṣ�\n"
          ]
        }
      ]
    },
    {
      "cell_type": "code",
      "source": [
        "# Print the generated text sequences\n",
        "for i, text in enumerate(generated_texts):\n",
        "    print(f\"Generated Text {i+1}: {text['generated_text']}\")"
      ],
      "metadata": {
        "colab": {
          "base_uri": "https://localhost:8080/"
        },
        "id": "wZ6DmKrhsLpC",
        "outputId": "ce00c00d-b839-49f4-bfc2-59028be6a057"
      },
      "execution_count": 7,
      "outputs": [
        {
          "output_type": "stream",
          "name": "stdout",
          "text": [
            "Generated Text 1: he draw to the town Ṣuṣṭṭhi, the wind was blowing gently in this direction towards the east, and so the wind was as much as the wind of a mountain. Ṣuṣ�\n"
          ]
        }
      ]
    },
    {
      "cell_type": "code",
      "source": [
        "# Print the generated text sequences\n",
        "for i, text in enumerate(generated_texts):\n",
        "  print(f\"Generated Text {1}: {text['generated_text']}\")"
      ],
      "metadata": {
        "colab": {
          "base_uri": "https://localhost:8080/"
        },
        "id": "2AdczanhsfUz",
        "outputId": "fe365b65-b730-4017-a84c-636e968ea555"
      },
      "execution_count": 17,
      "outputs": [
        {
          "output_type": "stream",
          "name": "stdout",
          "text": [
            "Generated Text 1: he draw to the town Ṣuṣṭṭhi, the wind was blowing gently in this direction towards the east, and so the wind was as much as the wind of a mountain. Ṣuṣ�\n"
          ]
        }
      ]
    },
    {
      "cell_type": "code",
      "source": [
        "text['generated_text']"
      ],
      "metadata": {
        "colab": {
          "base_uri": "https://localhost:8080/",
          "height": 35
        },
        "id": "JZEbsQthsuFZ",
        "outputId": "129ec773-161d-48a7-be8f-f5079e2302eb"
      },
      "execution_count": 18,
      "outputs": [
        {
          "output_type": "execute_result",
          "data": {
            "text/plain": [
              "'he draw to the town Ṣuṣṭṭhi, the wind was blowing gently in this direction towards the east, and so the wind was as much as the wind of a mountain. Ṣuṣ�'"
            ],
            "application/vnd.google.colaboratory.intrinsic+json": {
              "type": "string"
            }
          },
          "metadata": {},
          "execution_count": 18
        }
      ]
    },
    {
      "cell_type": "code",
      "source": [
        "from transformers import GPT2LMHeadModel, GPT2Tokenizer\n",
        "\n",
        "# Define the model and tokenizer\n",
        "model_name = \"gpt2\"\n",
        "model = GPT2LMHeadModel.from_pretrained(model_name)\n",
        "tokenizer = GPT2Tokenizer.from_pretrained(model_name)\n",
        "\n",
        "# Save the model and tokenizer\n",
        "model.save_pretrained(\"model-gpt2-t2t\")\n",
        "tokenizer.save_pretrained(\"tokenizer-gpt2-t2t\")\n"
      ],
      "metadata": {
        "colab": {
          "base_uri": "https://localhost:8080/"
        },
        "id": "V0TTg8u0tJOK",
        "outputId": "aba3223e-d603-486d-daed-2c61f667fd65"
      },
      "execution_count": 12,
      "outputs": [
        {
          "output_type": "execute_result",
          "data": {
            "text/plain": [
              "('tokenizer-gpt2-t2t/tokenizer_config.json',\n",
              " 'tokenizer-gpt2-t2t/special_tokens_map.json',\n",
              " 'tokenizer-gpt2-t2t/vocab.json',\n",
              " 'tokenizer-gpt2-t2t/merges.txt',\n",
              " 'tokenizer-gpt2-t2t/added_tokens.json')"
            ]
          },
          "metadata": {},
          "execution_count": 12
        }
      ]
    },
    {
      "cell_type": "code",
      "source": [
        "generated_texts[0]"
      ],
      "metadata": {
        "colab": {
          "base_uri": "https://localhost:8080/"
        },
        "id": "g-Scy6tvt_RB",
        "outputId": "40d352e6-db0a-4389-d9f5-1f2b3f9b43c2"
      },
      "execution_count": 16,
      "outputs": [
        {
          "output_type": "execute_result",
          "data": {
            "text/plain": [
              "{'generated_text': 'he draw to the town Ṣuṣṭṭhi, the wind was blowing gently in this direction towards the east, and so the wind was as much as the wind of a mountain. Ṣuṣ�'}"
            ]
          },
          "metadata": {},
          "execution_count": 16
        }
      ]
    },
    {
      "cell_type": "code",
      "source": [],
      "metadata": {
        "id": "w_JCCrAcwWTX"
      },
      "execution_count": null,
      "outputs": []
    }
  ]
}