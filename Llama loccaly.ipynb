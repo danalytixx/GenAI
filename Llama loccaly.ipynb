{
 "cells": [
  {
   "cell_type": "code",
   "execution_count": 6,
   "id": "6354ddc3",
   "metadata": {},
   "outputs": [],
   "source": [
    "#pip install llama-cpp-python==0.1.77"
   ]
  },
  {
   "cell_type": "code",
   "execution_count": 4,
   "id": "c6932258",
   "metadata": {},
   "outputs": [
    {
     "name": "stdout",
     "output_type": "stream",
     "text": [
      "Defaulting to user installation because normal site-packages is not writeable\n",
      "Collecting llama-cpp-python\n",
      "  Using cached llama_cpp_python-0.1.77.tar.gz (1.6 MB)\n",
      "  Installing build dependencies: started\n",
      "  Installing build dependencies: finished with status 'done'\n",
      "  Getting requirements to build wheel: started\n",
      "  Getting requirements to build wheel: finished with status 'done'\n",
      "  Preparing metadata (pyproject.toml): started\n",
      "  Preparing metadata (pyproject.toml): finished with status 'done'\n",
      "Requirement already satisfied: typing-extensions>=4.5.0 in c:\\programdata\\anaconda3_5\\lib\\site-packages (from llama-cpp-python) (4.6.3)\n",
      "Requirement already satisfied: numpy>=1.20.0 in c:\\programdata\\anaconda3_5\\lib\\site-packages (from llama-cpp-python) (1.24.3)\n",
      "Collecting diskcache>=5.6.1 (from llama-cpp-python)\n",
      "  Using cached diskcache-5.6.1-py3-none-any.whl (45 kB)\n",
      "Building wheels for collected packages: llama-cpp-python\n",
      "  Building wheel for llama-cpp-python (pyproject.toml): started\n",
      "  Building wheel for llama-cpp-python (pyproject.toml): finished with status 'done'\n",
      "  Created wheel for llama-cpp-python: filename=llama_cpp_python-0.1.77-cp311-cp311-win_amd64.whl size=1148161 sha256=cb7ee058b8874ef1745777b00df4fc1be3df747610b7bef9b0c28db1773c1b0c\n",
      "  Stored in directory: c:\\users\\hotaha\\appdata\\local\\pip\\cache\\wheels\\e2\\67\\cb\\481cfaabbb5fd5edab627c5b475de63e1b6f7d4d7b678d4d25\n",
      "Successfully built llama-cpp-python\n",
      "Installing collected packages: diskcache, llama-cpp-python\n",
      "Successfully installed diskcache-5.6.1 llama-cpp-python-0.1.77\n"
     ]
    }
   ],
   "source": [
    "!pip install llama-cpp-python"
   ]
  },
  {
   "cell_type": "code",
   "execution_count": 5,
   "id": "efdb9e44",
   "metadata": {},
   "outputs": [],
   "source": [
    "#!pip install llm-llama-cpp"
   ]
  },
  {
   "cell_type": "code",
   "execution_count": 7,
   "id": "9850a004",
   "metadata": {},
   "outputs": [],
   "source": [
    "#pip install llama-cpp-python --force-reinstall --upgrade --no-cache-dir"
   ]
  },
  {
   "cell_type": "code",
   "execution_count": 9,
   "id": "a7cc39ac",
   "metadata": {},
   "outputs": [],
   "source": [
    "##https://swharden.com/blog/2023-07-29-ai-chat-locally-with-python/\n",
    "#https://huggingface.co/TheBloke/Llama-2-7B-Chat-GGML/tree/main\n",
    "\n",
    "#load the large language model file\n",
    "#from langchain.llms import LlamaCpp\n",
    "#from langchain import PromptTemplate, LLMChain\n",
    "from llama_cpp import Llama\n",
    "data_location = \"C:/Users/hotaha/OneDrive - dormakaba Group/Desktop/Python/LLM/llama-2-7b-chat.ggmlv3.q4_0.bin\""
   ]
  },
  {
   "cell_type": "code",
   "execution_count": 13,
   "id": "a86b4b51",
   "metadata": {},
   "outputs": [
    {
     "name": "stderr",
     "output_type": "stream",
     "text": [
      "AVX = 1 | AVX2 = 1 | AVX512 = 0 | AVX512_VBMI = 0 | AVX512_VNNI = 0 | FMA = 1 | NEON = 0 | ARM_FMA = 0 | F16C = 1 | FP16_VA = 0 | WASM_SIMD = 0 | BLAS = 0 | SSE3 = 1 | VSX = 0 | \n"
     ]
    },
    {
     "name": "stdout",
     "output_type": "stream",
     "text": [
      " The maximum number in the list is 125. références:. 1, 12, 18, 9, and 125 are all valid numbers, but the largest one in the list is 125. Therefore, the answer is (D) 125.\n"
     ]
    }
   ],
   "source": [
    "\n",
    "\n",
    "LLM = Llama(model_path=data_location)\n",
    "\n",
    "# create a text prompt\n",
    "prompt = \"Q: What is the max number: 1 or 125 or 9 or 12 or 18 ? A:\"\n",
    "\n",
    "# generate a response (takes several seconds)\n",
    "output = LLM(prompt)\n",
    "\n",
    "# display the response\n",
    "print(output[\"choices\"][0][\"text\"])"
   ]
  },
  {
   "cell_type": "code",
   "execution_count": null,
   "id": "0f9886f4",
   "metadata": {},
   "outputs": [],
   "source": []
  }
 ],
 "metadata": {
  "kernelspec": {
   "display_name": "Python 3 (ipykernel)",
   "language": "python",
   "name": "python3"
  },
  "language_info": {
   "codemirror_mode": {
    "name": "ipython",
    "version": 3
   },
   "file_extension": ".py",
   "mimetype": "text/x-python",
   "name": "python",
   "nbconvert_exporter": "python",
   "pygments_lexer": "ipython3",
   "version": "3.11.3"
  }
 },
 "nbformat": 4,
 "nbformat_minor": 5
}
